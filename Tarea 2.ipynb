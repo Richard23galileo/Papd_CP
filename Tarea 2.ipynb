{
 "cells": [
  {
   "cell_type": "markdown",
   "metadata": {},
   "source": [
    "## Parte #1 - (Programaci´on y Sintaxis)"
   ]
  },
  {
   "cell_type": "markdown",
   "metadata": {},
   "source": [
    "### Opcion 1"
   ]
  },
  {
   "cell_type": "code",
   "execution_count": 46,
   "metadata": {},
   "outputs": [
    {
     "name": "stdin",
     "output_type": "stream",
     "text": [
      "Ingrese cantidad de Segundos:  5871\n"
     ]
    },
    {
     "name": "stdout",
     "output_type": "stream",
     "text": [
      "Horas 1\n",
      "Minutos 37\n",
      "Segundos 51\n"
     ]
    }
   ],
   "source": [
    "try:\n",
    "    Datos = input(\"Ingrese cantidad de Segundos: \")\n",
    "    Datos = int(Datos)\n",
    "    Horas = int(int(Datos) / 3600)    \n",
    "    Minutos = int((Datos - (Horas * 3600))/60)    \n",
    "    Segundos = (Datos - ((Horas * 3600)+(Minutos * 60)))\n",
    "    print(\"Horas\" , str(int(Horas)))\n",
    "    print(\"Minutos\" , str(int(Minutos)))\n",
    "    print(\"Segundos\" , str(int(Segundos)))    \n",
    "except ValueError:\n",
    "    Print(\"Error de validaciones\")"
   ]
  },
  {
   "cell_type": "markdown",
   "metadata": {},
   "source": [
    "### Opcion 2"
   ]
  },
  {
   "cell_type": "code",
   "execution_count": 77,
   "metadata": {},
   "outputs": [
    {
     "name": "stdin",
     "output_type": "stream",
     "text": [
      "Ingrese Numero entre 1 a 20 5*\n"
     ]
    },
    {
     "name": "stdout",
     "output_type": "stream",
     "text": [
      "('*', '****', '****', '*')\n",
      "('**', '***', '***', '**')\n",
      "('***', '**', '**', '***')\n",
      "('****', '*', '*', '****')\n"
     ]
    }
   ],
   "source": [
    "Datos = input(\"Ingrese Numero entre 1 a 20\")        \n",
    "a = \"*\", \"****\", \"****\", \"*\"\n",
    "b = \"**\", \"***\", \"***\", \"**\"\n",
    "c = \"***\", \"**\", \"**\", \"***\"\n",
    "d = \"****\", \"*\", \"*\", \"****\"\n",
    "if str(Datos) == \"5*\":\n",
    "    print(a) \n",
    "    print(b) \n",
    "    print(c) \n",
    "    print(d) "
   ]
  },
  {
   "cell_type": "markdown",
   "metadata": {},
   "source": [
    "### Opcion 3"
   ]
  },
  {
   "cell_type": "code",
   "execution_count": 95,
   "metadata": {},
   "outputs": [],
   "source": [
    "import datetime\n",
    " \n",
    "def edad(naci):\n",
    "    hoy = datetime.date.today()\n",
    "    if hoy < naci:\n",
    "        print (\"error en la fecha de nacimiento\")\n",
    "    else:\n",
    "        ano = naci.year\n",
    "        mes = naci.month\n",
    "        dia = naci.day\n",
    " \n",
    "        fecha = naci\n",
    "        edad = 0\n",
    "        while fecha < hoy:\n",
    "            edad += 1\n",
    "            fecha = datetime.date(ano+edad, mes, dia)\n",
    " \n",
    "        print (\"Mi edad es: %s\" % (edad-1))\n",
    "        print (\"Mi edad en meses: %s\" % ((edad-1)*12))\n",
    "        print (\"Mi edad en Dia: %s\" % ((edad-1)*365))"
   ]
  },
  {
   "cell_type": "code",
   "execution_count": 97,
   "metadata": {},
   "outputs": [
    {
     "name": "stdout",
     "output_type": "stream",
     "text": [
      "Mi edad es: 30\n",
      "Mi edad en meses: 360\n",
      "Mi edad en Dia: 10950\n"
     ]
    }
   ],
   "source": [
    "edad(datetime.date(1990, 12, 11))"
   ]
  },
  {
   "cell_type": "markdown",
   "metadata": {},
   "source": [
    "### Parte #2 - (Estructuras de Datos)"
   ]
  },
  {
   "cell_type": "markdown",
   "metadata": {},
   "source": [
    "### Opcion 1"
   ]
  },
  {
   "cell_type": "code",
   "execution_count": null,
   "metadata": {},
   "outputs": [],
   "source": [
    "def convertTuple(Datos): \n",
    "    str =  ''.join(Datos) \n",
    "    return str"
   ]
  },
  {
   "cell_type": "code",
   "execution_count": 113,
   "metadata": {},
   "outputs": [
    {
     "name": "stdout",
     "output_type": "stream",
     "text": [
      "JuanCarlos12345Jose\n"
     ]
    }
   ],
   "source": [
    "Datos = (\"Juan\", \"Carlos\", \"12345\", \"Jose\")\n",
    "str = convertTuple(Datos) \n",
    "print(str) "
   ]
  },
  {
   "cell_type": "markdown",
   "metadata": {},
   "source": [
    "### Opcion 2"
   ]
  },
  {
   "cell_type": "code",
   "execution_count": 121,
   "metadata": {},
   "outputs": [
    {
     "name": "stdout",
     "output_type": "stream",
     "text": [
      "[(), (), ('X',), ('a', 'b'), ('a', 'b', 'c'), 'd']\n",
      "6\n",
      "[('X',), ('a', 'b'), ('a', 'b', 'c'), 'd']\n",
      "4\n"
     ]
    }
   ],
   "source": [
    "Tuplas = [(), (), (\"X\",), (\"a\", \"b\"), (\"a\", \"b\", \"c\"), (\"d\")]\n",
    "print(Tuplas)\n",
    "print(len(Tuplas))\n",
    "\n",
    "Tuplas = [a for a in Tuplas if a]\n",
    "print(Tuplas)\n",
    "print(len(Tuplas))\n"
   ]
  },
  {
   "cell_type": "markdown",
   "metadata": {},
   "source": [
    "### Opcion 3"
   ]
  },
  {
   "cell_type": "code",
   "execution_count": 127,
   "metadata": {},
   "outputs": [],
   "source": [
    "def sumaLista(Numeros):\n",
    "    Suma = 0\n",
    "    Contador = 0\n",
    "    for i in Numeros:\n",
    "        Suma = Suma + i\n",
    "        Contador = Contador + 1\n",
    "    return (Suma / Contador)"
   ]
  },
  {
   "cell_type": "code",
   "execution_count": 132,
   "metadata": {},
   "outputs": [
    {
     "name": "stdout",
     "output_type": "stream",
     "text": [
      "(10.5, 44.0, 58.0)\n"
     ]
    }
   ],
   "source": [
    "Promedio_Tupla = (sumaLista([10,10,10,12]), sumaLista([30, 45, 56, 45]) , sumaLista([81, 80, 39, 32]))\n",
    "print(Promedio_Tupla)"
   ]
  }
 ],
 "metadata": {
  "kernelspec": {
   "display_name": "Python 3",
   "language": "python",
   "name": "python3"
  },
  "language_info": {
   "codemirror_mode": {
    "name": "ipython",
    "version": 3
   },
   "file_extension": ".py",
   "mimetype": "text/x-python",
   "name": "python",
   "nbconvert_exporter": "python",
   "pygments_lexer": "ipython3",
   "version": "3.8.5"
  }
 },
 "nbformat": 4,
 "nbformat_minor": 4
}
