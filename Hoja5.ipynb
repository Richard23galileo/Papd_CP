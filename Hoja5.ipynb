{
 "cells": [
  {
   "cell_type": "markdown",
   "metadata": {},
   "source": [
    "### Ejercicio 1"
   ]
  },
  {
   "cell_type": "code",
   "execution_count": 88,
   "metadata": {},
   "outputs": [],
   "source": [
    "import pandas as pd\n",
    "import numpy as np\n",
    "import random"
   ]
  },
  {
   "cell_type": "code",
   "execution_count": 61,
   "metadata": {},
   "outputs": [
    {
     "name": "stdout",
     "output_type": "stream",
     "text": [
      "[32, 34, 6, 8, 10, 12, 14, 16, 18, 20, 22, 24, 26, 28, 30]\n"
     ]
    }
   ],
   "source": [
    "caracteristica = np.arange(6,21)\n",
    "etiqueta = np.arange(15)\n",
    "dato = list(set(caracteristica + etiqueta))\n",
    "print(dato)"
   ]
  },
  {
   "cell_type": "markdown",
   "metadata": {},
   "source": [
    "### Ejercicio 2"
   ]
  },
  {
   "cell_type": "code",
   "execution_count": 70,
   "metadata": {},
   "outputs": [],
   "source": [
    "for dato1 in etiqueta:\n",
    "    P1 = dato1 - 2\n",
    "    P2 = dato1 +  2"
   ]
  },
  {
   "cell_type": "code",
   "execution_count": 96,
   "metadata": {},
   "outputs": [
    {
     "data": {
      "text/plain": [
       "11"
      ]
     },
     "execution_count": 96,
     "metadata": {},
     "output_type": "execute_result"
    }
   ],
   "source": [
    " random.randrange(1, 100, 10)"
   ]
  },
  {
   "cell_type": "markdown",
   "metadata": {},
   "source": [
    "### Ejercicio 3"
   ]
  },
  {
   "cell_type": "code",
   "execution_count": 147,
   "metadata": {},
   "outputs": [],
   "source": [
    "Ejercio3df = pd.DataFrame()\n",
    "Ejercio3df['Data Warehouse'] = np.arange(1,11)*4\n",
    "Ejercio3df['Python in Data Science'] = np.arange(1,11)*3\n",
    "Ejercio3df['Estadistica Aplicada'] = np.arange(1,11)*2\n",
    "Ejercio3df['Promedio'] = np.mean(Ejercio3df.iloc[0])"
   ]
  },
  {
   "cell_type": "code",
   "execution_count": 148,
   "metadata": {},
   "outputs": [
    {
     "data": {
      "text/html": [
       "<div>\n",
       "<style scoped>\n",
       "    .dataframe tbody tr th:only-of-type {\n",
       "        vertical-align: middle;\n",
       "    }\n",
       "\n",
       "    .dataframe tbody tr th {\n",
       "        vertical-align: top;\n",
       "    }\n",
       "\n",
       "    .dataframe thead th {\n",
       "        text-align: right;\n",
       "    }\n",
       "</style>\n",
       "<table border=\"1\" class=\"dataframe\">\n",
       "  <thead>\n",
       "    <tr style=\"text-align: right;\">\n",
       "      <th></th>\n",
       "      <th>Data Warehouse</th>\n",
       "      <th>Python in Data Science</th>\n",
       "      <th>Estadistica Aplicada</th>\n",
       "      <th>Promedio</th>\n",
       "    </tr>\n",
       "  </thead>\n",
       "  <tbody>\n",
       "    <tr>\n",
       "      <th>0</th>\n",
       "      <td>4</td>\n",
       "      <td>3</td>\n",
       "      <td>2</td>\n",
       "      <td>3.0</td>\n",
       "    </tr>\n",
       "    <tr>\n",
       "      <th>1</th>\n",
       "      <td>8</td>\n",
       "      <td>6</td>\n",
       "      <td>4</td>\n",
       "      <td>3.0</td>\n",
       "    </tr>\n",
       "    <tr>\n",
       "      <th>2</th>\n",
       "      <td>12</td>\n",
       "      <td>9</td>\n",
       "      <td>6</td>\n",
       "      <td>3.0</td>\n",
       "    </tr>\n",
       "    <tr>\n",
       "      <th>3</th>\n",
       "      <td>16</td>\n",
       "      <td>12</td>\n",
       "      <td>8</td>\n",
       "      <td>3.0</td>\n",
       "    </tr>\n",
       "    <tr>\n",
       "      <th>4</th>\n",
       "      <td>20</td>\n",
       "      <td>15</td>\n",
       "      <td>10</td>\n",
       "      <td>3.0</td>\n",
       "    </tr>\n",
       "    <tr>\n",
       "      <th>5</th>\n",
       "      <td>24</td>\n",
       "      <td>18</td>\n",
       "      <td>12</td>\n",
       "      <td>3.0</td>\n",
       "    </tr>\n",
       "    <tr>\n",
       "      <th>6</th>\n",
       "      <td>28</td>\n",
       "      <td>21</td>\n",
       "      <td>14</td>\n",
       "      <td>3.0</td>\n",
       "    </tr>\n",
       "    <tr>\n",
       "      <th>7</th>\n",
       "      <td>32</td>\n",
       "      <td>24</td>\n",
       "      <td>16</td>\n",
       "      <td>3.0</td>\n",
       "    </tr>\n",
       "    <tr>\n",
       "      <th>8</th>\n",
       "      <td>36</td>\n",
       "      <td>27</td>\n",
       "      <td>18</td>\n",
       "      <td>3.0</td>\n",
       "    </tr>\n",
       "    <tr>\n",
       "      <th>9</th>\n",
       "      <td>40</td>\n",
       "      <td>30</td>\n",
       "      <td>20</td>\n",
       "      <td>3.0</td>\n",
       "    </tr>\n",
       "  </tbody>\n",
       "</table>\n",
       "</div>"
      ],
      "text/plain": [
       "   Data Warehouse  Python in Data Science  Estadistica Aplicada  Promedio\n",
       "0               4                       3                     2       3.0\n",
       "1               8                       6                     4       3.0\n",
       "2              12                       9                     6       3.0\n",
       "3              16                      12                     8       3.0\n",
       "4              20                      15                    10       3.0\n",
       "5              24                      18                    12       3.0\n",
       "6              28                      21                    14       3.0\n",
       "7              32                      24                    16       3.0\n",
       "8              36                      27                    18       3.0\n",
       "9              40                      30                    20       3.0"
      ]
     },
     "execution_count": 148,
     "metadata": {},
     "output_type": "execute_result"
    }
   ],
   "source": [
    "Ejercio3df"
   ]
  },
  {
   "cell_type": "code",
   "execution_count": 112,
   "metadata": {},
   "outputs": [
    {
     "data": {
      "text/html": [
       "<div>\n",
       "<style scoped>\n",
       "    .dataframe tbody tr th:only-of-type {\n",
       "        vertical-align: middle;\n",
       "    }\n",
       "\n",
       "    .dataframe tbody tr th {\n",
       "        vertical-align: top;\n",
       "    }\n",
       "\n",
       "    .dataframe thead th {\n",
       "        text-align: right;\n",
       "    }\n",
       "</style>\n",
       "<table border=\"1\" class=\"dataframe\">\n",
       "  <thead>\n",
       "    <tr style=\"text-align: right;\">\n",
       "      <th></th>\n",
       "      <th>Data Warehouse</th>\n",
       "      <th>Python in Data Science</th>\n",
       "      <th>Estadistica Aplicada</th>\n",
       "    </tr>\n",
       "  </thead>\n",
       "  <tbody>\n",
       "    <tr>\n",
       "      <th>0</th>\n",
       "      <td>4</td>\n",
       "      <td>6</td>\n",
       "      <td>2</td>\n",
       "    </tr>\n",
       "    <tr>\n",
       "      <th>1</th>\n",
       "      <td>8</td>\n",
       "      <td>12</td>\n",
       "      <td>4</td>\n",
       "    </tr>\n",
       "    <tr>\n",
       "      <th>2</th>\n",
       "      <td>12</td>\n",
       "      <td>18</td>\n",
       "      <td>6</td>\n",
       "    </tr>\n",
       "    <tr>\n",
       "      <th>3</th>\n",
       "      <td>16</td>\n",
       "      <td>24</td>\n",
       "      <td>8</td>\n",
       "    </tr>\n",
       "    <tr>\n",
       "      <th>4</th>\n",
       "      <td>20</td>\n",
       "      <td>30</td>\n",
       "      <td>10</td>\n",
       "    </tr>\n",
       "  </tbody>\n",
       "</table>\n",
       "</div>"
      ],
      "text/plain": [
       "   Data Warehouse  Python in Data Science  Estadistica Aplicada\n",
       "0               4                       6                     2\n",
       "1               8                      12                     4\n",
       "2              12                      18                     6\n",
       "3              16                      24                     8\n",
       "4              20                      30                    10"
      ]
     },
     "execution_count": 112,
     "metadata": {},
     "output_type": "execute_result"
    }
   ],
   "source": [
    "Ejercio3df.iloc[0:5]"
   ]
  },
  {
   "cell_type": "code",
   "execution_count": 119,
   "metadata": {},
   "outputs": [
    {
     "data": {
      "text/html": [
       "<div>\n",
       "<style scoped>\n",
       "    .dataframe tbody tr th:only-of-type {\n",
       "        vertical-align: middle;\n",
       "    }\n",
       "\n",
       "    .dataframe tbody tr th {\n",
       "        vertical-align: top;\n",
       "    }\n",
       "\n",
       "    .dataframe thead th {\n",
       "        text-align: right;\n",
       "    }\n",
       "</style>\n",
       "<table border=\"1\" class=\"dataframe\">\n",
       "  <thead>\n",
       "    <tr style=\"text-align: right;\">\n",
       "      <th></th>\n",
       "      <th>Data Warehouse</th>\n",
       "      <th>Python in Data Science</th>\n",
       "      <th>Estadistica Aplicada</th>\n",
       "    </tr>\n",
       "  </thead>\n",
       "  <tbody>\n",
       "    <tr>\n",
       "      <th>5</th>\n",
       "      <td>24</td>\n",
       "      <td>36</td>\n",
       "      <td>12</td>\n",
       "    </tr>\n",
       "    <tr>\n",
       "      <th>6</th>\n",
       "      <td>28</td>\n",
       "      <td>42</td>\n",
       "      <td>14</td>\n",
       "    </tr>\n",
       "    <tr>\n",
       "      <th>7</th>\n",
       "      <td>32</td>\n",
       "      <td>48</td>\n",
       "      <td>16</td>\n",
       "    </tr>\n",
       "    <tr>\n",
       "      <th>8</th>\n",
       "      <td>36</td>\n",
       "      <td>54</td>\n",
       "      <td>18</td>\n",
       "    </tr>\n",
       "  </tbody>\n",
       "</table>\n",
       "</div>"
      ],
      "text/plain": [
       "   Data Warehouse  Python in Data Science  Estadistica Aplicada\n",
       "5              24                      36                    12\n",
       "6              28                      42                    14\n",
       "7              32                      48                    16\n",
       "8              36                      54                    18"
      ]
     },
     "execution_count": 119,
     "metadata": {},
     "output_type": "execute_result"
    }
   ],
   "source": [
    "Ejercio3df.iloc[5:10]"
   ]
  },
  {
   "cell_type": "code",
   "execution_count": 138,
   "metadata": {},
   "outputs": [
    {
     "data": {
      "text/plain": [
       "1    8\n",
       "Name: Data Warehouse, dtype: int32"
      ]
     },
     "execution_count": 138,
     "metadata": {},
     "output_type": "execute_result"
    }
   ],
   "source": [
    "Ejercio3df.iloc[:,0]"
   ]
  },
  {
   "cell_type": "code",
   "execution_count": 139,
   "metadata": {},
   "outputs": [
    {
     "data": {
      "text/plain": [
       "1    4\n",
       "Name: Estadistica Aplicada, dtype: int32"
      ]
     },
     "execution_count": 139,
     "metadata": {},
     "output_type": "execute_result"
    }
   ],
   "source": [
    "Ejercio3df.iloc[:,2]"
   ]
  },
  {
   "cell_type": "code",
   "execution_count": null,
   "metadata": {},
   "outputs": [],
   "source": []
  },
  {
   "cell_type": "markdown",
   "metadata": {},
   "source": [
    "### Ejercicio 4"
   ]
  },
  {
   "cell_type": "code",
   "execution_count": 149,
   "metadata": {},
   "outputs": [
    {
     "data": {
      "text/plain": [
       "array([80.99342831, 77.7234714 , 77.29537708, 77.04605971, 71.53169325,\n",
       "       69.53172609, 71.15842563, 67.53486946, 63.06105123, 63.08512009,\n",
       "       59.07316461, 57.06854049, 56.48392454, 50.17343951, 48.55016433,\n",
       "       48.87542494, 45.97433776, 46.62849467, 42.18395185, 39.1753926 ,\n",
       "       42.93129754, 37.5484474 , 36.13505641, 31.15050363, 30.91123455,\n",
       "       30.22184518, 28.98372713, 33.32282461, 32.65586548, 34.55946964,\n",
       "       35.2251582 , 41.41884208, 38.97300555, 38.17029243, 43.2165184 ,\n",
       "       40.41545556, 44.56058433, 41.50923118, 44.05791362, 48.39372247,\n",
       "       50.76264745, 50.91416513, 51.62584629, 52.54064975, 51.47152745,\n",
       "       54.2745973 , 56.07872246, 60.39995874, 60.25866515, 57.33106255,\n",
       "       62.79102508, 62.65840687, 63.36044171, 67.22335258, 69.34771333,\n",
       "       70.43398881, 68.17870781, 70.52443239, 73.09109829, 75.66537597,\n",
       "       74.04165152, 73.98765641, 71.50527877, 70.68450983, 74.06094908,\n",
       "       74.50735185, 71.00982591, 72.51988631, 70.59506692, 67.94052972,\n",
       "       69.3125348 , 71.02479108, 67.23604023, 69.79595398, 60.78615082,\n",
       "       67.02842039, 64.91768388, 63.5045494 , 63.64506001, 58.84537499,\n",
       "       61.7401434 , 62.25268668, 63.85322399, 59.21986982, 57.99839741,\n",
       "       57.97084489, 60.16413757, 58.34980991, 55.99176164, 57.43679128,\n",
       "       55.96338587, 57.06549511, 53.0830733 , 53.19082955, 52.4209119 ,\n",
       "       49.63707267, 52.51531748, 51.80416183, 50.65125255, 49.53082573])"
      ]
     },
     "execution_count": 149,
     "metadata": {},
     "output_type": "execute_result"
    }
   ],
   "source": [
    "# Seed para reproducibilidad\n",
    "np.random.seed(42)\n",
    "# Creamos un arreglo que en su mayoria contiene Nans con algunos \"puntos de inflexion\" (local min/max).\n",
    "precios = np.full(100, fill_value=np.nan)\n",
    "precios[[0, 25, 60, -1]] = [80., 30., 75., 50.]\n",
    "\n",
    "# De manera lineal interpolamos los valores faltantes y agregamos ruido.\n",
    "x = np.arange(len(precios))\n",
    "es_valido = ~np.isnan(precios)\n",
    "precios = np.interp(x=x, xp=x[es_valido], fp=precios[es_valido])\n",
    "precios += np.random.randn(len(precios)) * 2\n",
    "precios"
   ]
  },
  {
   "cell_type": "code",
   "execution_count": null,
   "metadata": {},
   "outputs": [],
   "source": []
  }
 ],
 "metadata": {
  "kernelspec": {
   "display_name": "Python 3",
   "language": "python",
   "name": "python3"
  },
  "language_info": {
   "codemirror_mode": {
    "name": "ipython",
    "version": 3
   },
   "file_extension": ".py",
   "mimetype": "text/x-python",
   "name": "python",
   "nbconvert_exporter": "python",
   "pygments_lexer": "ipython3",
   "version": "3.8.5"
  }
 },
 "nbformat": 4,
 "nbformat_minor": 4
}
