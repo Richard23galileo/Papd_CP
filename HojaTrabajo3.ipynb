{
 "cells": [
  {
   "cell_type": "markdown",
   "metadata": {},
   "source": [
    "### Hoja trabajo 3"
   ]
  },
  {
   "cell_type": "code",
   "execution_count": 13,
   "metadata": {},
   "outputs": [
    {
     "data": {
      "text/plain": [
       "array([6, 5, 5, 6, 7, 8, 9, 2, 3])"
      ]
     },
     "execution_count": 13,
     "metadata": {},
     "output_type": "execute_result"
    }
   ],
   "source": [
    "import csv\n",
    "import numpy as np\n",
    "lista=[]\n",
    "listax=[]\n",
    "listay=[]\n",
    "with open('C:/Python/papd.csv') as archivo:\n",
    "    lectura = csv.reader(archivo, delimiter=';')\n",
    "    lista = list(lectura) \n",
    "    lista.pop(0)\n",
    "for linea in lista:\n",
    "    listax += (linea[0])        \n",
    "\n",
    "listax=[6, 5, 5, 6, 7, 8, 9, 2, 3] \n",
    "listay=[62,65,68,73,75,76,80,95,110]\n",
    "\n"
   ]
  },
  {
   "cell_type": "code",
   "execution_count": 24,
   "metadata": {},
   "outputs": [],
   "source": [
    "n = len(listax)\n",
    "x = np.array(listax)\n",
    "y = np.array(listay)"
   ]
  },
  {
   "cell_type": "code",
   "execution_count": 28,
   "metadata": {},
   "outputs": [
    {
     "name": "stdout",
     "output_type": "stream",
     "text": [
      "51\n",
      "704\n",
      "329\n",
      "56948\n",
      "3848\n",
      "5.666666666666667\n",
      "78.22222222222223\n"
     ]
    }
   ],
   "source": [
    "suma_x = sum(x)\n",
    "suma_y = sum(y)\n",
    "suma_x2 = sum(x*x)\n",
    "suma_y2 = sum(y*y)\n",
    "suma_xy = sum(x*y)\n",
    "promedio_x = suma_x / n\n",
    "promedio_y = suma_y / n\n",
    "print(suma_x)\n",
    "print(suma_y)\n",
    "print(suma_x2)\n",
    "print(suma_y2)\n",
    "print(suma_xy)\n",
    "print(promedio_x)\n",
    "print(promedio_y)"
   ]
  },
  {
   "cell_type": "code",
   "execution_count": 46,
   "metadata": {},
   "outputs": [],
   "source": [
    "class my_regresion:\n",
    "    def __init__(selft, b0, b1):\n",
    "        selft.b0 = b0\n",
    "        selft.b1 = b1\n",
    "        selft.x = x\n",
    "        selft.y = y\n",
    "        \n",
    "    def predict(selft, val):\n",
    "        regresion_predict = predict(val)\n",
    "        return regresion_predict\n",
    "        \n",
    "    def predictN(selft, val):\n",
    "        regresion_predictN = predict(val)\n",
    "        return regresion_predictN\n",
    "        \n",
    "    def r2(selft):\n",
    "        sigmax = np.sqrt(sumanx2/n - promedio_x**2)\n",
    "        sigmay = np.sqrt(sumany2/n - promedio_y**2)\n",
    "        sigmaxy = suma_xy / n - promedio_x * promedio_y\n",
    "        r2 = (sigmaxy / (sigmax*sigmay))**2\n",
    "        return r2\n",
    "    \n",
    "    def r(selft):\n",
    "        x = n / 2\n",
    "        for i in range(10):\n",
    "            if x * x ==(n):\n",
    "                return n\n",
    "            else:\n",
    "                x = (x + (n/x)) /2\n",
    "        return x\n",
    "                            "
   ]
  }
 ],
 "metadata": {
  "kernelspec": {
   "display_name": "Python 3",
   "language": "python",
   "name": "python3"
  },
  "language_info": {
   "codemirror_mode": {
    "name": "ipython",
    "version": 3
   },
   "file_extension": ".py",
   "mimetype": "text/x-python",
   "name": "python",
   "nbconvert_exporter": "python",
   "pygments_lexer": "ipython3",
   "version": "3.8.5"
  }
 },
 "nbformat": 4,
 "nbformat_minor": 4
}
